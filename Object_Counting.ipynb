{
  "nbformat": 4,
  "nbformat_minor": 0,
  "metadata": {
    "colab": {
      "name": "Object_Counting.ipynb",
      "version": "0.3.2",
      "provenance": [],
      "collapsed_sections": [],
      "include_colab_link": true
    },
    "kernelspec": {
      "name": "python3",
      "display_name": "Python 3"
    },
    "accelerator": "GPU"
  },
  "cells": [
    {
      "cell_type": "markdown",
      "metadata": {
        "id": "view-in-github",
        "colab_type": "text"
      },
      "source": [
        "<a href=\"https://colab.research.google.com/github/soharabhossain/OpenCV/blob/master/Object_Counting.ipynb\" target=\"_parent\"><img src=\"https://colab.research.google.com/assets/colab-badge.svg\" alt=\"Open In Colab\"/></a>"
      ]
    },
    {
      "cell_type": "markdown",
      "metadata": {
        "id": "UIWSBz1bi197",
        "colab_type": "text"
      },
      "source": [
        "## Counting the Number of Objects in an Image\n",
        "\n",
        "\n",
        "Counting number of objects from an image is a challenging task.\n",
        "\n",
        "If we have an image with non-overlapping clear object contours then we can go as follows:\n",
        "\n",
        "i) Convert the image in grayscale\n",
        "\n",
        "ii) Reduce noise by applying smoothing (blurring)\n",
        "\n",
        "iii) Apply edge detection -e.g. Canny's algorithm\n",
        "\n",
        "iv) Finding contours on the edge map found from the previous steps\n",
        "\n",
        "v) Count the number of closed contours found\n",
        "\n",
        "\n"
      ]
    },
    {
      "cell_type": "markdown",
      "metadata": {
        "id": "lZsGu7_ejCdm",
        "colab_type": "text"
      },
      "source": [
        "### Import Libraries"
      ]
    },
    {
      "cell_type": "code",
      "metadata": {
        "id": "df_JLGU1VpNh",
        "colab_type": "code",
        "colab": {}
      },
      "source": [
        "# import libraries\n",
        "import numpy as np\n",
        "import cv2\n",
        "import matplotlib.pyplot as plt"
      ],
      "execution_count": 0,
      "outputs": []
    },
    {
      "cell_type": "markdown",
      "metadata": {
        "id": "6Ljh9az9jGr0",
        "colab_type": "text"
      },
      "source": [
        "### Read an Image"
      ]
    },
    {
      "cell_type": "code",
      "metadata": {
        "id": "1Q78EJOeVq-E",
        "colab_type": "code",
        "colab": {}
      },
      "source": [
        "# Load image\n",
        "img = cv2.imread(\"Bounding.png\")"
      ],
      "execution_count": 0,
      "outputs": []
    },
    {
      "cell_type": "markdown",
      "metadata": {
        "id": "-1h-xO9_XBHT",
        "colab_type": "text"
      },
      "source": [
        "### Convert to Gray Scale and Reduce Noise by Smoothing Applying Blurring"
      ]
    },
    {
      "cell_type": "code",
      "metadata": {
        "id": "-fRZYeYTVtU9",
        "colab_type": "code",
        "colab": {}
      },
      "source": [
        "# Convert the original to grey scale and blur it to reduce noise\n",
        "gray = cv2.cvtColor(img, cv2.COLOR_BGR2GRAY)\n",
        "blurred = cv2.GaussianBlur(gray, (3, 3), 0)\n",
        "\n",
        "\n",
        "# Display the gray image\n",
        "plt.imshow(gray, cmap='gray')\n",
        "plt.title('Gray Image')\n",
        "\n",
        "# Display the blurred image\n",
        "plt.imshow(blurred, cmap='gray')\n",
        "plt.title('Blurred Image')"
      ],
      "execution_count": 0,
      "outputs": []
    },
    {
      "cell_type": "markdown",
      "metadata": {
        "id": "9deIBGvHjNkr",
        "colab_type": "text"
      },
      "source": [
        "### Edge Detection with Canny's Algorithm"
      ]
    },
    {
      "cell_type": "code",
      "metadata": {
        "id": "p6vCgEPVVwFd",
        "colab_type": "code",
        "colab": {}
      },
      "source": [
        "# Canny edge detection\n",
        "canny = cv2.Canny(blurred, 10, 150)\n",
        "\n",
        "\n",
        "# Show Canny's edge map\n",
        "plt.imshow(canny, cmap='gray')\n",
        "plt.title('Canny Edge Map')\n"
      ],
      "execution_count": 0,
      "outputs": []
    },
    {
      "cell_type": "markdown",
      "metadata": {
        "id": "eVAMvCnxjTMD",
        "colab_type": "text"
      },
      "source": [
        "### Find Contours of the Fro the Edge Map"
      ]
    },
    {
      "cell_type": "code",
      "metadata": {
        "id": "pD7Uh1jIVW_v",
        "colab_type": "code",
        "colab": {}
      },
      "source": [
        "# find the contours\n",
        "(_, contours, _) = cv2.findContours(canny, cv2.RETR_EXTERNAL, cv2.CHAIN_APPROX_SIMPLE)"
      ],
      "execution_count": 0,
      "outputs": []
    },
    {
      "cell_type": "markdown",
      "metadata": {
        "id": "JtCKHUoKjZyB",
        "colab_type": "text"
      },
      "source": [
        "### Draw Contours"
      ]
    },
    {
      "cell_type": "code",
      "metadata": {
        "id": "GHhUx96ZV1nt",
        "colab_type": "code",
        "colab": {}
      },
      "source": [
        "# Draw contours: -1 will draw all contours\n",
        "img1 = cv2.drawContours(img, contours, -1, (0, 255, 0), 2)"
      ],
      "execution_count": 0,
      "outputs": []
    },
    {
      "cell_type": "markdown",
      "metadata": {
        "id": "Ou_dXU9ojepM",
        "colab_type": "text"
      },
      "source": [
        "### Draw the Contours of the objects"
      ]
    },
    {
      "cell_type": "code",
      "metadata": {
        "id": "_Wv7r36YbYDq",
        "colab_type": "code",
        "colab": {}
      },
      "source": [
        "plt.imshow(img1)\n",
        "plt.title('Contour Plot')"
      ],
      "execution_count": 0,
      "outputs": []
    },
    {
      "cell_type": "markdown",
      "metadata": {
        "id": "txZnJqszjmHg",
        "colab_type": "text"
      },
      "source": [
        "### Print the Number of Objects Found"
      ]
    },
    {
      "cell_type": "code",
      "metadata": {
        "id": "6SKDDFfZV3MR",
        "colab_type": "code",
        "colab": {}
      },
      "source": [
        "# Print how many coins we found\n",
        "print(\"\\n Found %i objects in the image.\" % len(contours))"
      ],
      "execution_count": 0,
      "outputs": []
    }
  ]
}