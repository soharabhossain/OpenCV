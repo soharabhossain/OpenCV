{
 "cells": [
  {
   "cell_type": "markdown",
   "metadata": {},
   "source": [
    "# Face Detection from Images\n",
    "This example shows how to detect human faces from single/group photographs.\n",
    "A Python-OpenCV implemention."
   ]
  },
  {
   "cell_type": "code",
   "execution_count": 28,
   "metadata": {},
   "outputs": [],
   "source": [
    "# Import necessary library\n",
    "# Make sure openCV is installed\n",
    "import cv2\n"
   ]
  },
  {
   "cell_type": "code",
   "execution_count": 29,
   "metadata": {},
   "outputs": [],
   "source": [
    "class DetectFace:\n",
    "\tdef __init__(self, faceCascadePath):\n",
    "\t\t# load the face detector\n",
    "\t\tself.faceCascade = cv2.CascadeClassifier(faceCascadePath)\n",
    "\n",
    "\tdef detect(self, image, scaleFactor = 1.1, minNeighbors = 5, minSize = (30, 30)):\n",
    "\t\t# detect faces in the image\n",
    "\t\trects = self.faceCascade.detectMultiScale(image,\n",
    "\t\t\tscaleFactor = scaleFactor, minNeighbors = minNeighbors,\n",
    "\t\t\tminSize = minSize, flags = cv2.CASCADE_SCALE_IMAGE)\n",
    "\n",
    "\t\t# return the rectangles representing bounding\n",
    "\t\t# boxes around the faces\n",
    "\t\treturn rects\n"
   ]
  },
  {
   "cell_type": "markdown",
   "metadata": {},
   "source": [
    "Take input file in which faces to be search for. Also take input the Haar-cascade for human face detection."
   ]
  },
  {
   "cell_type": "code",
   "execution_count": 30,
   "metadata": {},
   "outputs": [],
   "source": [
    "# Select the input file \n",
    "#input_file =\"C:\\Python27\\PyML\\My Special Collection\\CV_FaceDetection\\images\\sundar.png\"\n",
    "input_file =\"C:\\Python27\\PyML\\My Special Collection\\CV_FaceDetection\\images\\group_pic_2.png\"\n",
    "\n",
    "# Face detector haarcascade-file\n",
    "face =\"C:\\Python27\\PyML\\My Special Collection\\CV_FaceDetection\\cascades\\haarcascade_frontalface_default.xml\""
   ]
  },
  {
   "cell_type": "markdown",
   "metadata": {},
   "source": [
    "Run the program..."
   ]
  },
  {
   "cell_type": "code",
   "execution_count": 32,
   "metadata": {},
   "outputs": [
    {
     "name": "stdout",
     "output_type": "stream",
     "text": [
      "\n",
      " Found 14 no. of faces\n"
     ]
    }
   ],
   "source": [
    "\n",
    "\n",
    "# load the image and convert it to grayscale\n",
    "image = cv2.imread(input_file)\n",
    "gray = cv2.cvtColor(image, cv2.COLOR_BGR2GRAY)\n",
    "\n",
    "# Find faces in the image\n",
    "fd = DetectFace(face)\n",
    "faceRects = fd.detect(gray, scaleFactor = 1.2, minNeighbors = 5, minSize = (30, 30))\n",
    "\n",
    "print(\"\\n Found {} no. of faces\".format(len(faceRects)))\n",
    "\n",
    "# Loop over the faces and draw a rectangle around each\n",
    "for (x, y, w, h) in faceRects:\n",
    "\tcv2.rectangle(image, (x, y), (x + w, y + h), (0, 255, 0), 2)\n",
    "\n",
    "# Mark the facial regions on the input-image\n",
    "cv2.imshow(\"Faces\", image)\n",
    "x=cv2.waitKey(0)\n"
   ]
  }
 ],
 "metadata": {
  "kernelspec": {
   "display_name": "Python 2",
   "language": "python",
   "name": "python2"
  },
  "language_info": {
   "codemirror_mode": {
    "name": "ipython",
    "version": 2
   },
   "file_extension": ".py",
   "mimetype": "text/x-python",
   "name": "python",
   "nbconvert_exporter": "python",
   "pygments_lexer": "ipython2",
   "version": "2.7.12"
  }
 },
 "nbformat": 4,
 "nbformat_minor": 2
}
